{
 "cells": [
  {
   "cell_type": "markdown",
   "metadata": {
    "isInteractiveWindowMessageCell": true
   },
   "source": [
    "Connected to ift6758-conda-env (Python 3.11.5)"
   ]
  },
  {
   "cell_type": "markdown",
   "metadata": {},
   "source": [
    "## Advanced Visualizations: Shot Maps\n",
    "\n",
    "In this notebook, we will create shot maps for any given NHL team, for a given year and season."
   ]
  },
  {
   "cell_type": "code",
   "execution_count": 1,
   "metadata": {},
   "outputs": [],
   "source": [
    "import pandas as pd\n",
    "import numpy as np"
   ]
  },
  {
   "cell_type": "code",
   "execution_count": 2,
   "metadata": {},
   "outputs": [],
   "source": [
    "def prepare_df(df):\n",
    "    \n",
    "    ## select for non null values\n",
    "    df = df[(df['RinkSide'].notna())]\n",
    "    df = df[(df['XCoord'].notna())]\n",
    "    df = df[(df['YCoord'].notna())]\n",
    "    \n",
    "    ## make sure there's not missing value\n",
    "    df['RinkSide'].notna().all() & df['XCoord'].notna().all()  & df['YCoord'].notna().all()  & df['Team'].notna().all()\n",
    "    \n",
    "    ## Correct coordinates for rink side\n",
    "    df.loc[df['RinkSide'] == 'right', ['XCoord']] *=- 1\n",
    "    df.loc[df['RinkSide'] == 'right', ['YCoord']] *=- 1\n",
    "    df['xlabel'] = df['XCoord'].apply(lambda x: int(x))\n",
    "    df['ylabel'] = df['YCoord'].apply(lambda x: int(x))\n",
    "    \n",
    "    return df\n",
    "\n",
    "\n",
    "def league_avg_shot_rate(df):\n",
    "    \n",
    "    ## compute league average shot rate at each location\n",
    "    df_gamesPerSeason = df[['GameID', 'Season']].drop_duplicates().groupby(['Season']).count()\n",
    "    df_leagueAverage = df.groupby(['Season', 'xlabel', 'ylabel']).agg({'Event': 'count'})\n",
    "    merged = df_leagueAverage.merge(df_gamesPerSeason, left_index=True, right_index=True)\n",
    "    df_leagueAverage['LeagueAverage'] = (merged['Event'] / merged['GameID']) / 2 # there are 2 teams for each game\n",
    "    \n",
    "    return df_leagueAverage\n",
    "\n",
    "\n",
    "def team_avg_shot_rate(df):\n",
    "    \n",
    "    ## compute team average shot rate at each location\n",
    "    df_gamesPerTeam = df[['Season', 'Team', 'GameID']].drop_duplicates().groupby(['Season', 'Team']).agg({'GameID': 'count'})\n",
    "    \n",
    "    df_teamAverage = df.groupby(['Season', 'Team', 'xlabel', 'ylabel']).agg({'Event': 'count'}).reset_index()\n",
    "    merged = df_teamAverage.merge(df_gamesPerTeam, how='left', on=['Season', 'Team'])\n",
    "    df_teamAverage['TeamAverage'] = merged['Event'] / merged['GameID']\n",
    "    \n",
    "    # Group by 'Season', 'Team', 'xlabel', and 'ylabel' and calculate the count of 'Event'\n",
    "    # team_avg_shot_rate = df.groupby(['Season', 'Team', 'xlabel', 'ylabel'])['Event'].count().reset_index()\n",
    "    # Rename the 'Event' column to 'LeagueAverage'\n",
    "    #team_avg_shot_rate = team_avg_shot_rate.rename(columns={'Event': 'LeagueAverage'})\n",
    "    \n",
    "    return df_teamAverage\n",
    "\n",
    "\n",
    "def team_excess(df_team_avg, df_league_avg):\n",
    "\n",
    "    ## merging each team's average with league average\n",
    "    df_team_excess=df_team_avg.merge(df_league_avg, how='outer', on=['Season', 'xlabel', 'ylabel'])\n",
    "    ## compute excess shot rate\n",
    "    df_team_excess['Excess'] = df_team_excess['TeamAverage'] - df_team_excess['LeagueAverage']\n",
    "    \n",
    "    return df_team_excess"
   ]
  },
  {
   "cell_type": "code",
   "execution_count": 3,
   "metadata": {},
   "outputs": [],
   "source": [
    "def teams_to_dict(df_team_excess, df_coordinate):\n",
    "\n",
    "    ## pivoting for all teams and store results in dictionary\n",
    "    dict_team={}\n",
    "    for season in df_team_excess['Season'].unique().tolist():\n",
    "        dict_team[season]={}\n",
    "        for team in df_team_excess['Team'].unique().tolist():\n",
    "            df_tmp = df_team_excess[(df_team_excess['Team'] == team) & (df_team_excess['Season'] == season)]\n",
    "            df_tmp2 = df_coordinate.merge(df_tmp[['xlabel', 'ylabel', 'Excess']], how='left', on=['xlabel', 'ylabel'])\n",
    "            df_tmp2 = df_tmp2.fillna(0)\n",
    "            df_tmp3 = df_tmp2[df_tmp2['xlabel'] > 0] # filter to keep only the offensive side\n",
    "            dict_team[season][team]=df_tmp2.pivot_table(index='ylabel', columns='xlabel', values='Excess')\n",
    "            \n",
    "    return dict_team\n",
    "\n",
    "\n",
    "def season_team_to_dict(df_team_excess):\n",
    "\n",
    "    ## season_team_df with x and y coordinates and excess shot rate\n",
    "    dict_season_team={}\n",
    "    \n",
    "    for season in df_team_excess['Season'].unique().tolist():\n",
    "        dict_season_team[season]={}\n",
    "        \n",
    "        for team in df_team_excess['Team'].unique().tolist():\n",
    "            df_tmp=df_team_excess[(df_team_excess['Team'] == team) & (df_team_excess['Season'] == season)]\n",
    "            df_season_team = df_tmp[['Season', 'Team', 'xlabel', 'ylabel', 'Excess']]\n",
    "            df_season_team = df_season_team[df_season_team['xlabel'] > 0] # filter to keep only the offensive side\n",
    "            dict_season_team[season][team] = df_season_team\n",
    "            \n",
    "    return dict_season_team"
   ]
  },
  {
   "cell_type": "code",
   "execution_count": 4,
   "metadata": {},
   "outputs": [],
   "source": [
    "# load data\n",
    "df_tidy = pd.read_csv('tidied_nhl.csv')\n",
    "\n",
    "# copy data\n",
    "df = df_tidy.copy()\n",
    "\n",
    "# Execute functions for data preparation before plotting\n",
    "df_processed = prepare_df(df)\n",
    "df_league_avg = league_avg_shot_rate(df_processed)\n",
    "df_team_avg = team_avg_shot_rate(df_processed)\n",
    "df_team_excess = team_excess(df_team_avg, df_league_avg)"
   ]
  },
  {
   "cell_type": "code",
   "execution_count": 5,
   "metadata": {},
   "outputs": [],
   "source": [
    "# creating empty dataframe to store all teams' excess shot rate\n",
    "dfx = pd.DataFrame({'xlabel': [i for i in range(-99,100)]})\n",
    "dfx['index'] = 1\n",
    "dfy = pd.DataFrame({'ylabel': [i for i in range(-42,43)]})\n",
    "dfy['index'] = 1\n",
    "df_coordinate = dfx.merge(dfy, on=['index'])\n",
    "\n",
    "dict_team = teams_to_dict(df_team_excess, df_coordinate)\n",
    "dict_season_team = season_team_to_dict(df_team_excess)"
   ]
  },
  {
   "cell_type": "markdown",
   "metadata": {},
   "source": [
    "# Creating the Interactive Shot Map\n",
    "\n",
    "The plot is interactive with options to select the team and the season. We have only created the offensive zone figures. "
   ]
  },
  {
   "cell_type": "code",
   "execution_count": 6,
   "metadata": {},
   "outputs": [],
   "source": [
    "import matplotlib.pyplot as plt\n",
    "import seaborn as sns\n",
    "import plotly.express as px\n",
    "import plotly.graph_objects as go\n",
    "from scipy.ndimage import gaussian_filter\n",
    "from scipy.interpolate import griddata\n",
    "from ipywidgets import interact, interactive, fixed, interact_manual, widgets\n",
    "from scipy.stats import gaussian_kde\n",
    "from IPython.display import clear_output"
   ]
  },
  {
   "cell_type": "code",
   "execution_count": 7,
   "metadata": {},
   "outputs": [],
   "source": [
    "def plot_shot_map(year, team, df):\n",
    "    \n",
    "    plt.clf()\n",
    "    \n",
    "    # Use previously generated data with columns: x coordinates, y coordinates, excess shot rate\n",
    "    game = df[year][team] \n",
    "    \n",
    "    fig, ax = plt.subplots(figsize=(12,10), facecolor='w', edgecolor='k')\n",
    "    img = plt.imread('figures/nhl_rink.png')\n",
    "    ext = [-100, 100, -42.5, 42.5]\n",
    "    plt.imshow(img, zorder=0, extent=ext, aspect=1)\n",
    "    \n",
    "    [x,y] = np.round(np.meshgrid(np.linspace(0, 100, 100), np.linspace(-42.5, 42.5, 85)))\n",
    "    excess_shot_rate = griddata((game['xlabel'], game['ylabel']), game['Excess'], (x,y), method='cubic', fill_value=0)\n",
    "    \n",
    "    # Use kernel density estimation with a Gaussian kernel\n",
    "    excess_shot_rate = gaussian_filter(excess_shot_rate, sigma=5)\n",
    "    img = ax.imshow(excess_shot_rate, extent=[0, 100, -42.5, 42.5], origin='lower', cmap='bwr', alpha=0.5 )#, clim=(-1, 1))\n",
    "    \n",
    "    cbar = plt.colorbar(img, ax=ax, pad = 0.05)\n",
    "    cbar.ax.set_ylabel('Excess shots per hour', rotation=270, labelpad=20)\n",
    "    ax.set_title(f\"Shot map of the {team} - {year} season\")\n",
    "    ax.set(xticks=np.linspace(90, 0, 10), yticks=np.linspace(-40, 40, 9))\n",
    "    \n",
    "    plt.show()\n"
   ]
  },
  {
   "cell_type": "code",
   "execution_count": 8,
   "metadata": {},
   "outputs": [
    {
     "data": {
      "application/vnd.jupyter.widget-view+json": {
       "model_id": "6800c4e3ec2f4860b3edea2a9df8aa7d",
       "version_major": 2,
       "version_minor": 0
      },
      "text/plain": [
       "Dropdown(description='Select a season', options=('2016-2017', '2017-2018', '2018-2019', '2019-2020', '2020-202…"
      ]
     },
     "metadata": {},
     "output_type": "display_data"
    },
    {
     "data": {
      "application/vnd.jupyter.widget-view+json": {
       "model_id": "172fbd8a2b6f40c59ac6e79cd2ffa871",
       "version_major": 2,
       "version_minor": 0
      },
      "text/plain": [
       "Dropdown(description='Select a team', options=('Anaheim Ducks', 'Arizona Coyotes', 'Boston Bruins', 'Buffalo S…"
      ]
     },
     "metadata": {},
     "output_type": "display_data"
    },
    {
     "data": {
      "application/vnd.jupyter.widget-view+json": {
       "model_id": "f91adb122e2b49979b9fa1cc2b2ec3bf",
       "version_major": 2,
       "version_minor": 0
      },
      "text/plain": [
       "Button(button_style='success', description='Load new shot map', style=ButtonStyle(), tooltip='Load the selecte…"
      ]
     },
     "metadata": {},
     "output_type": "display_data"
    }
   ],
   "source": [
    "# Update the game based on the selected season and team\n",
    "def update_game(year, team):\n",
    "    print(f\"Loading season {year} for the {team}...\")\n",
    "    # Simulate shot map data for the game\n",
    "    plot_shot_map(year, team, dict_season_team)\n",
    "\n",
    "    \n",
    "year = widgets.Dropdown(\n",
    "    options = ['2016-2017', '2017-2018', '2018-2019', '2019-2020', '2020-2021'],\n",
    "    value = '2016-2017',\n",
    "    description = 'Select a season',\n",
    "    disabled = False,\n",
    ")\n",
    "team = widgets.Dropdown(\n",
    "    options=['Anaheim Ducks', 'Arizona Coyotes', 'Boston Bruins', 'Buffalo Sabres',\n",
    "             'Calgary Flames', 'Carolina Hurricanes', 'Chicago Blackhawks', 'Colorado Avalanche',\n",
    "             'Columbus Blue Jackets', 'Dallas Stars', 'Detroit Red Wings', 'Edmonton Oilers',\n",
    "             'Florida Panthers', 'Los Angeles Kings', 'Minnesota Wild', 'Montréal Canadiens',\n",
    "             'Nashville Predators', 'New Jersey Devils', 'New York Islanders', 'New York Rangers',\n",
    "             'Ottawa Senators', 'Philadelphia Flyers', 'Pittsburgh Penguins', 'San Jose Sharks',\n",
    "             'St. Louis Blues', 'Tampa Bay Lightning', 'Toronto Maple Leafs', 'Vancouver Canucks',\n",
    "             'Vegas Golden Knights', 'Washington Capitals', 'Winnipeg Jets'],\n",
    "    value='Anaheim Ducks',\n",
    "    description='Select a team',\n",
    "    disabled=False,\n",
    ")\n",
    "\n",
    "load_button = widgets.Button(\n",
    "    description='Load new shot map',\n",
    "    button_style='success',\n",
    "    tooltip='Load the selected game',\n",
    ")\n",
    "\n",
    "def load_game(button):\n",
    "    year_id = year.value\n",
    "    team_id = team.value\n",
    "    update_game(year_id, team_id)\n",
    "\n",
    "nb_loads = 0\n",
    "load_button.on_click(load_game)\n",
    "\n",
    "display(year, team, load_button)\n"
   ]
  },
  {
   "cell_type": "code",
   "execution_count": null,
   "metadata": {},
   "outputs": [],
   "source": []
  }
 ],
 "metadata": {
  "kernelspec": {
   "display_name": "ift6758-conda-env",
   "language": "python",
   "name": "ift6758-conda-env"
  },
  "language_info": {
   "codemirror_mode": {
    "name": "ipython",
    "version": 3
   },
   "file_extension": ".py",
   "mimetype": "text/x-python",
   "name": "python",
   "nbconvert_exporter": "python",
   "pygments_lexer": "ipython3",
   "version": "3.11.5"
  }
 },
 "nbformat": 4,
 "nbformat_minor": 4
}
