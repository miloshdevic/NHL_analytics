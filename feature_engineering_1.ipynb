{
 "cells": [
  {
   "cell_type": "markdown",
   "id": "ed72bca3",
   "metadata": {},
   "source": [
    "# Feature Engineering I\n",
    "\n",
    "**This notebook has the objective to acquire all of the raw play-by-play data for the 2015/16 season all the way to the 2019/20 season (inclusive), with the last season being the test set. Note that this tidied data will be useful for the baseline models, but we will be creating more features that will require the full raw data in the Feature Engineering II section.**\n",
    "\n",
    "We ran the file \"nhl_data_downloader\" twice, once to save our training dataset (2015-16 to 2018-19 seasons) in the folder \"nhl_data_train\", and once to set aside all of the 2019/20 data as our final test set in the folder \"nhl_data\"test\". \n",
    "\n",
    "Here, we will work with the file \"tidy_data.py\" for the first part of feature engineering.\n"
   ]
  },
  {
   "cell_type": "code",
   "execution_count": null,
   "id": "9a6b048b",
   "metadata": {},
   "outputs": [],
   "source": [
    "import pandas as pd\n",
    "import numpy as np\n",
    "import json\n",
    "import os as os\n",
    "import seaborn as sns\n",
    "import matplotlib.pyplot as plt\n",
    "\n",
    "# For the new NHL API\n",
    "from tidy_data import *\n",
    "\n",
    "# For the old NHL API\n",
    "# from tidy_data_old_api import *"
   ]
  },
  {
   "cell_type": "markdown",
   "id": "4d66f24d",
   "metadata": {},
   "source": [
    "## Tidying the data\n",
    "\n",
    "Using our training dataset, we created a tidied dataset for each SHOT/GOAL event, with the following columns:\n",
    "\n",
    "- 'distance_to_goal' (distance of the shot from the net)\n",
    "- 'shooting_angle' (angle from which the shot was taken)\n",
    "- 'isGoal' (0 or 1)\n",
    "- 'isEmptyNet' (0 or 1; we will assume NaNs as 0)\n",
    "\n",
    "\n",
    "We approximated the net as a single point (i.e. we didn't consider the width of the net when computing the distance or angle). \n",
    "\n",
    "reference for shot angle: http://hockeyanalytics.com/Research_files/SQ-RS0910-Krzywicki.pdf\n"
   ]
  },
  {
   "cell_type": "code",
   "execution_count": null,
   "id": "aea306a5",
   "metadata": {},
   "outputs": [],
   "source": [
    "# RUN THIS CELL ONLY IF YOU DON'T ALREADY HAVE THE RAW DATA IN A TIDIED FORMAT IN A CSV FILE\n",
    "\n",
    "# folder of the raw training dataset\n",
    "folder_train = 'nhl_data_train'\n",
    "\n",
    "# run the \"tidy_data.py\" code to get a clean df of the raw data (this takes a lot of time to run)\n",
    "run_tidy_data(folder_train)"
   ]
  },
  {
   "cell_type": "code",
   "execution_count": null,
   "id": "ff5fe685",
   "metadata": {},
   "outputs": [],
   "source": [
    "# Load the dataset\n",
    "df = pd.read_csv(\"nhl_data_train.csv\").copy()\n",
    "\n",
    "# keep only shots and goals\n",
    "df = df[df['Event'].isin(['SHOT', 'GOAL'])]\n",
    "\n",
    "# add distance and angle columns\n",
    "df = add_distance(df)\n",
    "df = add_angle(df)\n",
    "\n",
    "df"
   ]
  },
  {
   "cell_type": "code",
   "execution_count": null,
   "id": "b98edbc8",
   "metadata": {},
   "outputs": [],
   "source": [
    "# keep only the selected columns\n",
    "df = df[['isEmptyNet', 'isGoal', 'DistanceToGoal', 'ShootingAngle']]\n",
    "\n",
    "# save to a csv file for the baseline model\n",
    "df.to_csv('baseline_model_data.csv')\n",
    "df"
   ]
  },
  {
   "cell_type": "markdown",
   "id": "8b7d0b58",
   "metadata": {},
   "source": [
    "## Visualizing the data\n",
    "\n",
    "Let's create several plots to get a better idea of the relation between the shooting angles and distances and the their efficiency in a shot being converted to a goal."
   ]
  },
  {
   "cell_type": "code",
   "execution_count": null,
   "id": "78bcc7b5",
   "metadata": {},
   "outputs": [],
   "source": [
    "# Separate the DataFrame into two subsets: one for goals and one for no-goals\n",
    "goals_df = df[df['isGoal'] == 1]\n",
    "no_goals_df = df[df['isGoal'] == 0]\n",
    "\n",
    "# Set up the figure\n",
    "plt.figure(figsize=(12, 6))\n",
    "\n",
    "# Histogram for goals\n",
    "sns.histplot(data=goals_df, x='DistanceToGoal', bins=20, color='red', label='Goals', alpha=1)\n",
    "\n",
    "# Histogram for no-goals\n",
    "sns.histplot(data=no_goals_df, x='DistanceToGoal', bins=20, color='blue', label='No Goals', alpha=0.4)\n",
    "\n",
    "plt.xlabel('Distance from the Net (in feet)')\n",
    "plt.ylabel('Shot Count')\n",
    "plt.legend()\n",
    "plt.title('Histogram of Shot Count by Distance (Goals and No Goals)')\n",
    "\n",
    "plt.show()"
   ]
  },
  {
   "cell_type": "code",
   "execution_count": null,
   "id": "cc3cf42a",
   "metadata": {},
   "outputs": [],
   "source": [
    "# Separate the DataFrame into two subsets: one for goals and one for no-goals\n",
    "goals_df = df[df['isGoal'] == 1]\n",
    "no_goals_df = df[df['isGoal'] == 0]\n",
    "\n",
    "# Set up the figure\n",
    "plt.figure(figsize=(12, 6))\n",
    "\n",
    "# Histogram for goals\n",
    "sns.histplot(data=goals_df, x='ShootingAngle', bins=20, color='red', label='Goals', alpha=1)\n",
    "\n",
    "# Histogram for no-goals\n",
    "sns.histplot(data=no_goals_df, x='ShootingAngle', bins=20, color='blue', label='No Goals', alpha=0.4)\n",
    "\n",
    "plt.xlabel('Shooting Angle (in degrees)')\n",
    "plt.ylabel('Shot Count')\n",
    "plt.legend()\n",
    "plt.title('Histogram of Shot Count by Shooting Angle (Goals and No Goals)')\n",
    "\n",
    "plt.show()"
   ]
  },
  {
   "cell_type": "code",
   "execution_count": null,
   "id": "8ba60457",
   "metadata": {},
   "outputs": [],
   "source": [
    "# Set up the figure\n",
    "plt.figure(figsize=(10, 8))\n",
    "\n",
    "# Joint plot\n",
    "sns.jointplot(data=df, x='DistanceToGoal', y='ShootingAngle', kind='hist', bins=20, cmap='viridis', cbar=True)\n",
    "\n",
    "plt.xlabel('Distance to Goal (in feet)')\n",
    "plt.ylabel('Shooting Angle (in degrees)')\n",
    "plt.suptitle('2D Histogram of Distance vs. Shooting Angle')\n",
    "\n",
    "plt.show()"
   ]
  },
  {
   "cell_type": "code",
   "execution_count": null,
   "id": "f7eb04e3",
   "metadata": {},
   "outputs": [],
   "source": [
    "# Group the data by distance\n",
    "distance_grouped = df.groupby('DistanceToGoal')\n",
    "\n",
    "# Calculate the number of goals and no-goals at each distance\n",
    "goals_count = distance_grouped.size()\n",
    "no_goals_count = distance_grouped.size().subtract(distance_grouped['isGoal'].sum(), fill_value=0)\n",
    "\n",
    "# Compute the goal rate (#goals / (#no_goals + #goals))\n",
    "goal_rate = goals_count / (no_goals_count + goals_count)\n",
    "\n",
    "# Create a new DataFrame with the distance and goal rate\n",
    "goal_rate_df = pd.DataFrame({'distance': goal_rate.index, 'goal_rate': goal_rate.values})\n",
    "\n",
    "# Reset the index for a cleaner DataFrame\n",
    "goal_rate_df.reset_index(drop=True, inplace=True)\n",
    "\n",
    "goal_rate_df"
   ]
  },
  {
   "cell_type": "code",
   "execution_count": null,
   "id": "624fb471",
   "metadata": {},
   "outputs": [],
   "source": [
    "# Line plot\n",
    "plt.figure(figsize=(10, 6))\n",
    "plt.plot(goal_rate_df['distance'], goal_rate_df['goal_rate'], alpha=0.5)\n",
    "plt.xlabel('Distance from the Net (in feet)')\n",
    "plt.ylabel('Goal Rate')\n",
    "plt.title('Goal Rate vs. Distance')\n",
    "plt.show()"
   ]
  },
  {
   "cell_type": "code",
   "execution_count": null,
   "id": "9161f3c9",
   "metadata": {},
   "outputs": [],
   "source": [
    "# Group the data by angle\n",
    "angle_grouped = df.groupby('ShootingAngle')\n",
    "\n",
    "# Calculate the number of goals and no-goals at each angle\n",
    "goals_count = angle_grouped.size()\n",
    "no_goals_count = angle_grouped.size().subtract(angle_grouped['isGoal'].sum(), fill_value=0)\n",
    "\n",
    "# Compute the goal rate (#goals / (#no_goals + #goals))\n",
    "angle_goal_rate = goals_count / (no_goals_count + goals_count)\n",
    "\n",
    "# Create a new DataFrame with the distance and goal rate\n",
    "angle_goal_rate_df = pd.DataFrame({'angle': angle_goal_rate.index, 'goal_rate': angle_goal_rate.values})\n",
    "\n",
    "# Reset the index for a cleaner DataFrame\n",
    "angle_goal_rate_df.reset_index(drop=True, inplace=True)\n",
    "\n",
    "angle_goal_rate_df"
   ]
  },
  {
   "cell_type": "code",
   "execution_count": null,
   "id": "94b0c1f6",
   "metadata": {},
   "outputs": [],
   "source": [
    "# Line plot\n",
    "plt.figure(figsize=(10, 6))\n",
    "plt.plot(angle_goal_rate_df['angle'], angle_goal_rate_df['goal_rate'], alpha=0.5)\n",
    "plt.xlabel('Shooting Angle (in degrees)')\n",
    "plt.ylabel('Goal Rate')\n",
    "plt.title('Goal Rate vs. Shooting Angle')\n",
    "plt.show()"
   ]
  },
  {
   "cell_type": "code",
   "execution_count": null,
   "id": "106ac3bf",
   "metadata": {},
   "outputs": [],
   "source": [
    "# Filter the DataFrame to include only goals\n",
    "goal_df = df[df['isGoal'] == 1]\n",
    "\n",
    "# Create two subsets: empty net goals and non-empty net goals\n",
    "empty_net_goals = goal_df[goal_df['isEmptyNet'] == 1]\n",
    "non_empty_net_goals = goal_df[goal_df['isEmptyNet'] == 0]\n",
    "\n",
    "print(goal_df['isEmptyNet'].value_counts())\n",
    "\n",
    "plt.figure(figsize=(10, 6))\n",
    "\n",
    "# Histogram for goals\n",
    "sns.histplot(empty_net_goals['DistanceToGoal'], bins=20, alpha=0.5, label='Empty Net Goals', color='red')\n",
    "\n",
    "# Histogram for no-goals\n",
    "sns.histplot(non_empty_net_goals['DistanceToGoal'], bins=20, alpha=0.5, label='Non-Empty Net Goals', color='blue')\n",
    "\n",
    "\n",
    "plt.xlabel('Distance from the Net (in feet)')\n",
    "plt.ylabel('Number of Goals')\n",
    "plt.title('Histogram of Goals by Distance (Empty Net vs. Non-Empty Net)')\n",
    "plt.legend()\n",
    "\n",
    "plt.show()"
   ]
  },
  {
   "cell_type": "code",
   "execution_count": null,
   "id": "8d7afe85",
   "metadata": {},
   "outputs": [],
   "source": []
  }
 ],
 "metadata": {
  "kernelspec": {
   "display_name": "ift6758-conda-env",
   "language": "python",
   "name": "ift6758-conda-env"
  },
  "language_info": {
   "codemirror_mode": {
    "name": "ipython",
    "version": 3
   },
   "file_extension": ".py",
   "mimetype": "text/x-python",
   "name": "python",
   "nbconvert_exporter": "python",
   "pygments_lexer": "ipython3",
   "version": "3.11.5"
  }
 },
 "nbformat": 4,
 "nbformat_minor": 5
}
