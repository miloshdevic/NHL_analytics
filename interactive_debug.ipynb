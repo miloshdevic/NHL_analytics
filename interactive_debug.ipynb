{
 "cells": [
  {
   "cell_type": "code",
   "execution_count": null,
   "id": "adf1251a",
   "metadata": {},
   "outputs": [],
   "source": [
    "# !pip install ipywidgets"
   ]
  },
  {
   "cell_type": "code",
   "execution_count": 16,
   "id": "9202328b",
   "metadata": {},
   "outputs": [
    {
     "data": {
      "application/vnd.jupyter.widget-view+json": {
       "model_id": "0be12c0605774242aadbd602fba8be5e",
       "version_major": 2,
       "version_minor": 0
      },
      "text/plain": [
       "IntText(value=0, description='Game ID:')"
      ]
     },
     "metadata": {},
     "output_type": "display_data"
    },
    {
     "data": {
      "application/vnd.jupyter.widget-view+json": {
       "model_id": "4ad84ba9f6b84ef7ae9fe0cf4f561723",
       "version_major": 2,
       "version_minor": 0
      },
      "text/plain": [
       "IntText(value=0, description='Event ID:')"
      ]
     },
     "metadata": {},
     "output_type": "display_data"
    },
    {
     "data": {
      "application/vnd.jupyter.widget-view+json": {
       "model_id": "47f5cef158b740e099eaea4996840851",
       "version_major": 2,
       "version_minor": 0
      },
      "text/plain": [
       "Button(button_style='success', description='Load Game', style=ButtonStyle(), tooltip='Load the selected game')"
      ]
     },
     "metadata": {},
     "output_type": "display_data"
    }
   ],
   "source": [
    "import ipywidgets as widgets\n",
    "from IPython.display import display\n",
    "import matplotlib.pyplot as plt\n",
    "from matplotlib.patches import Circle\n",
    "import matplotlib.pyplot as plt\n",
    "import matplotlib.image as mpimg\n",
    "import pandas as pd\n",
    "import json\n",
    "\n",
    "# This function is to output the game info as a dataframe, so the viewers could get a big picture of the chosen game\n",
    "# The input (game id) is given by the interactive tools entered by the user\n",
    "# SoG: shotsOnGoal, SOGoals: shootout goals, SOAttemps: shootout attempts\n",
    "def get_game_output(game_id):\n",
    "    game_id = str(game_id)\n",
    "    file_path = \"nhl_data/nhl_play_by_play_\"+game_id[:4]+'_'+game_id+\".json\"\n",
    "    df = pd.read_json(file_path)\n",
    "\n",
    "    away_team = df[\"liveData\"][\"boxscore\"][\"teams\"][\"away\"][\"team\"][\"abbreviation\"]\n",
    "    away_goals = df[\"liveData\"][\"boxscore\"][\"teams\"][\"away\"][\"teamStats\"][\"teamSkaterStats\"][\"goals\"]\n",
    "    away_SoG = df[\"liveData\"][\"linescore\"][\"teams\"][\"away\"][\"shotsOnGoal\"]\n",
    "    away_SOGoals = df[\"liveData\"][\"linescore\"][\"shootoutInfo\"][\"away\"][\"scores\"]\n",
    "    away_SOAttemps = df[\"liveData\"][\"linescore\"][\"shootoutInfo\"][\"away\"][\"attempts\"]\n",
    "    home_team = df[\"liveData\"][\"boxscore\"][\"teams\"][\"home\"][\"team\"][\"abbreviation\"]\n",
    "    home_goals = df[\"liveData\"][\"boxscore\"][\"teams\"][\"home\"][\"teamStats\"][\"teamSkaterStats\"][\"goals\"]\n",
    "    home_SoG = df[\"liveData\"][\"linescore\"][\"teams\"][\"home\"][\"shotsOnGoal\"]\n",
    "    home_SOGoals = df[\"liveData\"][\"linescore\"][\"shootoutInfo\"][\"home\"][\"scores\"]\n",
    "    home_SOAttemps = df[\"liveData\"][\"linescore\"][\"shootoutInfo\"][\"home\"][\"attempts\"]\n",
    "    df = pd.DataFrame({'Home': [home_team, home_goals, home_SoG, home_SOGoals, home_SOAttemps],'Away': [away_team, away_goals, away_SoG, away_SOGoals, away_SOAttemps]})\n",
    "    df.index = ['Teams', 'Goals', 'SoG', 'SO Goals', 'SO Attempts']\n",
    "    \n",
    "    return df\n",
    "\n",
    "# This function is to output the event info as a dictionary, so the viewers could get more detailed information about the chosen event\n",
    "# The input (game id and event id) is given by the interactive tools entered by the user\n",
    "def get_event_output(game_id, event_id):\n",
    "    game_id = str(game_id)\n",
    "    file_path = \"nhl_data/nhl_play_by_play_\"+game_id[:4]+'_'+game_id+\".json\"\n",
    "    with open(file_path, 'r') as f:\n",
    "      data = json.load(f)\n",
    "    one_event_data = data[\"liveData\"][\"plays\"][\"allPlays\"][event_id]\n",
    "    del one_event_data[\"about\"][\"goals\"]\n",
    "    return one_event_data\n",
    "\n",
    "# This function is to plot where the event occurred on a rink figure, with info of the event description and time and periods\n",
    "# The input (game id and event id) is given by the interactive tools entered by the user\n",
    "def plot_ice_rink_with_events(game_id, event_id):\n",
    "    # Load the local ice rink image\n",
    "    rink_image_path = 'nhl_data/nhl_rink.png'\n",
    "    img = mpimg.imread(rink_image_path)\n",
    "    # plt.axis('off')  # Hide axis numbers and ticks\n",
    "    fig, ax = plt.subplots(figsize=(10, 5))\n",
    "    ax.imshow(img, extent=[-100, 100, -42.5, 42.5])\n",
    "    event_coordinates = get_event_output(game_id, event_id)[\"coordinates\"]\n",
    "    if event_coordinates != {}:\n",
    "        x, y = event_coordinates[\"x\"], event_coordinates[\"y\"]\n",
    "        plt.plot(x, y, 'bo')\n",
    "        plt.xlabel('feet')  \n",
    "        plt.ylabel('feet')\n",
    "        plt.title(df[\"liveData\"][\"plays\"][\"allPlays\"][event_id][\"result\"][\"description\"] +' \\n'+ str(df[\"liveData\"][\"plays\"][\"allPlays\"][event_id][\"about\"][\"periodTime\"])+\" period \"+str(df[\"liveData\"][\"plays\"][\"allPlays\"][event_id][\"about\"][\"period\"]))\n",
    "    \n",
    "    plt.show()\n",
    "    \n",
    "\n",
    "# Function to update the game based on the selected game ID\n",
    "def update_game(game_id, event_id):\n",
    "    print(f\"Loading game {game_id} with event {event_id}...\")\n",
    "    \n",
    "    # Simulate getting event data for the game (replace with actual data)\n",
    "    print(get_game_output(game_id))\n",
    "    plot_ice_rink_with_events(game_id, event_id)\n",
    "    print(get_event_output(game_id, event_id))\n",
    "\n",
    "# Widget to select the game ID\n",
    "game_id_text = widgets.IntText(\n",
    "    value=0,\n",
    "    description='Game ID:',\n",
    "    disabled=False\n",
    ")\n",
    "# Widget to select the event ID\n",
    "event_id_text = widgets.IntText(\n",
    "    value=0,\n",
    "    description='Event ID:',\n",
    "    disabled=False\n",
    ")\n",
    "\n",
    "# Button to load the selected game\n",
    "load_button = widgets.Button(\n",
    "    description='Load Game',\n",
    "    button_style='success',\n",
    "    tooltip='Load the selected game',\n",
    ")\n",
    "\n",
    "# Use input (game id and event id) given by the interactive tools entered by the user to load the game\n",
    "def load_game(button):\n",
    "    game_id = game_id_text.value\n",
    "    event_id = event_id_text.value\n",
    "    update_game(game_id, event_id)\n",
    "\n",
    "load_button.on_click(load_game)\n",
    "\n",
    "# Display the widgets\n",
    "display(game_id_text, event_id_text, load_button)\n",
    "\n",
    "# Here are some example that you can try to use the interactive tool\n",
    "# game_id: 2016020001\n",
    "# event_id: 8"
   ]
  },
  {
   "cell_type": "code",
   "execution_count": null,
   "id": "b1ba9f41",
   "metadata": {},
   "outputs": [],
   "source": []
  },
  {
   "cell_type": "code",
   "execution_count": null,
   "id": "35dd689b",
   "metadata": {},
   "outputs": [],
   "source": []
  }
 ],
 "metadata": {
  "kernelspec": {
   "display_name": "Python 3 (ipykernel)",
   "language": "python",
   "name": "python3"
  },
  "language_info": {
   "codemirror_mode": {
    "name": "ipython",
    "version": 3
   },
   "file_extension": ".py",
   "mimetype": "text/x-python",
   "name": "python",
   "nbconvert_exporter": "python",
   "pygments_lexer": "ipython3",
   "version": "3.11.4"
  }
 },
 "nbformat": 4,
 "nbformat_minor": 5
}
