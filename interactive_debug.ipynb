{
 "cells": [
  {
   "cell_type": "code",
   "execution_count": null,
   "id": "adf1251a",
   "metadata": {},
   "outputs": [],
   "source": [
    "# !pip install ipywidgets"
   ]
  },
  {
   "cell_type": "code",
   "execution_count": 2,
   "id": "9202328b",
   "metadata": {},
   "outputs": [
    {
     "data": {
      "application/vnd.jupyter.widget-view+json": {
       "model_id": "230966b5692c424fa305a8700ac03aed",
       "version_major": 2,
       "version_minor": 0
      },
      "text/plain": [
       "IntText(value=0, description='Game ID:')"
      ]
     },
     "metadata": {},
     "output_type": "display_data"
    },
    {
     "data": {
      "application/vnd.jupyter.widget-view+json": {
       "model_id": "313de8b166944c6caa171d87808825cf",
       "version_major": 2,
       "version_minor": 0
      },
      "text/plain": [
       "IntText(value=0, description='Event ID:')"
      ]
     },
     "metadata": {},
     "output_type": "display_data"
    },
    {
     "data": {
      "application/vnd.jupyter.widget-view+json": {
       "model_id": "a9f9178439854f7a812d1e289fbd3a37",
       "version_major": 2,
       "version_minor": 0
      },
      "text/plain": [
       "Button(button_style='success', description='Load Game', style=ButtonStyle(), tooltip='Load the selected game')"
      ]
     },
     "metadata": {},
     "output_type": "display_data"
    }
   ],
   "source": [
    "import ipywidgets as widgets\n",
    "from IPython.display import display\n",
    "import matplotlib.pyplot as plt\n",
    "from matplotlib.patches import Circle\n",
    "import matplotlib.pyplot as plt\n",
    "import matplotlib.image as mpimg\n",
    "import pandas as pd\n",
    "import json\n",
    "\n",
    "def get_game_output(game_id):\n",
    "    game_id = str(game_id)\n",
    "    file_path = \"nhl_data/nhl_play_by_play_\"+game_id[:4]+'_'+game_id+\".json\"\n",
    "    df = pd.read_json(file_path)\n",
    "\n",
    "    away_team = df[\"liveData\"][\"boxscore\"][\"teams\"][\"away\"][\"team\"][\"abbreviation\"]\n",
    "    away_goals = df[\"liveData\"][\"boxscore\"][\"teams\"][\"away\"][\"teamStats\"][\"teamSkaterStats\"][\"goals\"]\n",
    "    home_team = df[\"liveData\"][\"boxscore\"][\"teams\"][\"home\"][\"team\"][\"abbreviation\"]\n",
    "    home_goals = df[\"liveData\"][\"boxscore\"][\"teams\"][\"home\"][\"teamStats\"][\"teamSkaterStats\"][\"goals\"]\n",
    "    df = pd.DataFrame({'Home': [home_team, home_goals],'Away': [away_team, away_goals]})\n",
    "    \n",
    "    return df\n",
    "\n",
    "def get_event_output(game_id, event_id):\n",
    "    game_id = str(game_id)\n",
    "    file_path = \"nhl_data/nhl_play_by_play_\"+game_id[:4]+'_'+game_id+\".json\"\n",
    "    with open(file_path, 'r') as f:\n",
    "      data = json.load(f)\n",
    "    one_event_data = data[\"liveData\"][\"plays\"][\"allPlays\"][event_id]\n",
    "    del one_event_data[\"about\"][\"goals\"]\n",
    "    return one_event_data\n",
    "\n",
    "def plot_ice_rink_with_events(game_id, event_id):\n",
    "    # Load the local ice rink image\n",
    "    rink_image_path = 'nhl_data/nhl_rink.png'\n",
    "    img = mpimg.imread(rink_image_path)\n",
    "    plt.axis('off')  # Hide axis numbers and ticks\n",
    "    fig, ax = plt.subplots(figsize=(10, 5))\n",
    "    ax.imshow(img, extent=[-100, 100, -42.5, 42.5])\n",
    "    event_coordinates = get_event_output(game_id, event_id)[\"coordinates\"]\n",
    "    if event_coordinates != {}:\n",
    "        x, y = event_coordinates[\"x\"], event_coordinates[\"y\"]\n",
    "        plt.plot(x, y, 'bo')\n",
    "    \n",
    "    plt.show()\n",
    "    \n",
    "\n",
    "# Function to update the game based on the selected game ID\n",
    "def update_game(game_id, event_id):\n",
    "    print(f\"Loading game {game_id} with event {event_id}...\")\n",
    "    \n",
    "    # Simulate getting event data for the game (replace with actual data)\n",
    "    print(get_game_output(game_id))\n",
    "    plot_ice_rink_with_events(game_id, event_id)\n",
    "    print(get_event_output(game_id, event_id))\n",
    "\n",
    "# Widget to select the game ID\n",
    "game_id_text = widgets.IntText(\n",
    "    value=0,\n",
    "    description='Game ID:',\n",
    "    disabled=False\n",
    ")\n",
    "event_id_text = widgets.IntText(\n",
    "    value=0,\n",
    "    description='Event ID:',\n",
    "    disabled=False\n",
    ")\n",
    "\n",
    "# Button to load the selected game\n",
    "load_button = widgets.Button(\n",
    "    description='Load Game',\n",
    "    button_style='success',\n",
    "    tooltip='Load the selected game',\n",
    ")\n",
    "\n",
    "def load_game(button):\n",
    "    game_id = game_id_text.value\n",
    "    event_id = event_id_text.value\n",
    "    update_game(game_id, event_id)\n",
    "\n",
    "load_button.on_click(load_game)\n",
    "\n",
    "# Display the widgets\n",
    "display(game_id_text, event_id_text, load_button)\n",
    "\n",
    "#game_id: 2016020001\n",
    "#event_id: 8"
   ]
  },
  {
   "cell_type": "code",
   "execution_count": null,
   "id": "44df4b61",
   "metadata": {},
   "outputs": [],
   "source": []
  },
  {
   "cell_type": "code",
   "execution_count": 39,
   "id": "af7de072",
   "metadata": {},
   "outputs": [
    {
     "name": "stdout",
     "output_type": "stream",
     "text": [
      "  Home Away\n",
      "0  OTT  TOR\n",
      "1    5    4\n"
     ]
    }
   ],
   "source": [
    "## FOR TESTING\n",
    "\n",
    "def get_game_output(game_id):\n",
    "    game_id = str(game_id)\n",
    "    file_path = \"nhl_data/nhl_play_by_play_\"+game_id[:4]+'_'+game_id+\".json\"\n",
    "    df = pd.read_json(file_path)\n",
    "\n",
    "    away_team = df[\"liveData\"][\"boxscore\"][\"teams\"][\"away\"][\"team\"][\"abbreviation\"]\n",
    "    away_goals = df[\"liveData\"][\"boxscore\"][\"teams\"][\"away\"][\"teamStats\"][\"teamSkaterStats\"][\"goals\"]\n",
    "    home_team = df[\"liveData\"][\"boxscore\"][\"teams\"][\"home\"][\"team\"][\"abbreviation\"]\n",
    "    home_goals = df[\"liveData\"][\"boxscore\"][\"teams\"][\"home\"][\"teamStats\"][\"teamSkaterStats\"][\"goals\"]\n",
    "    df = pd.DataFrame({'Home': [home_team, home_goals],'Away': [away_team, away_goals]})\n",
    "    \n",
    "    return df\n",
    "    \n",
    "game_id = 2016020001\n",
    "print(get_game_output(game_id))"
   ]
  },
  {
   "cell_type": "code",
   "execution_count": 20,
   "id": "ce1aa195",
   "metadata": {
    "scrolled": true
   },
   "outputs": [
    {
     "name": "stdout",
     "output_type": "stream",
     "text": [
      "{'result': {'event': 'Period Ready', 'eventCode': 'OTT2', 'eventTypeId': 'PERIOD_READY', 'description': 'Period Ready'}, 'about': {'eventIdx': 1, 'eventId': 2, 'period': 1, 'periodType': 'REGULAR', 'ordinalNum': '1st', 'periodTime': '00:00', 'periodTimeRemaining': '20:00', 'dateTime': '2016-10-12T23:14:45Z'}, 'coordinates': {}}\n"
     ]
    }
   ],
   "source": [
    "def get_event_output(game_id, event_id):\n",
    "    game_id = str(game_id)\n",
    "    file_path = \"nhl_data/nhl_play_by_play_\"+game_id[:4]+'_'+game_id+\".json\"\n",
    "    with open(file_path, 'r') as f:\n",
    "      data = json.load(f)\n",
    "    one_event_data = data[\"liveData\"][\"plays\"][\"allPlays\"][event_id]\n",
    "    del one_event_data[\"about\"][\"goals\"]\n",
    "    return one_event_data\n",
    "\n",
    "game_id = 2016020001\n",
    "event_id = 1\n",
    "print(get_event_output(game_id, event_id))"
   ]
  },
  {
   "cell_type": "code",
   "execution_count": null,
   "id": "b1ba9f41",
   "metadata": {},
   "outputs": [],
   "source": []
  },
  {
   "cell_type": "code",
   "execution_count": null,
   "id": "35dd689b",
   "metadata": {},
   "outputs": [],
   "source": []
  }
 ],
 "metadata": {
  "kernelspec": {
   "display_name": "Python 3 (ipykernel)",
   "language": "python",
   "name": "python3"
  },
  "language_info": {
   "codemirror_mode": {
    "name": "ipython",
    "version": 3
   },
   "file_extension": ".py",
   "mimetype": "text/x-python",
   "name": "python",
   "nbconvert_exporter": "python",
   "pygments_lexer": "ipython3",
   "version": "3.11.6"
  }
 },
 "nbformat": 4,
 "nbformat_minor": 5
}
