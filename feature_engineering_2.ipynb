{
 "cells": [
  {
   "cell_type": "markdown",
   "id": "e49e790a",
   "metadata": {},
   "source": [
    "# Feature Engineering II\n",
    "\n",
    "**Now that we have some baseline results from the logistic regression model, we can kick it up a notch with some more features.**\n",
    "\n",
    "Let's also include the following features:\n",
    "\n",
    "- Game seconds\n",
    "- Game period\n",
    "- Coordinates (x,y, separate columns)\n",
    "- Shot distance\n",
    "- Shot angle\n",
    "- Shot type\n"
   ]
  },
  {
   "cell_type": "code",
   "execution_count": null,
   "id": "62a38290",
   "metadata": {},
   "outputs": [],
   "source": [
    "import pandas as pd\n",
    "import numpy as np\n",
    "import json\n",
    "import os as os\n",
    "from datetime import datetime, time, date\n",
    "from tidy_data import *"
   ]
  },
  {
   "cell_type": "code",
   "execution_count": null,
   "id": "b4e4617a",
   "metadata": {},
   "outputs": [],
   "source": [
    "# Load the dataset\n",
    "df = pd.read_csv(\"nhl_data_train.csv\").copy()\n",
    "\n",
    "# keep only events that directly happen during the game\n",
    "df = df[df['Event'].isin(['SHOT', 'GOAL', 'FACEOFF', 'HIT', 'GIVEAWAY', 'MISSED_SHOT',\n",
    "                                  'BLOCKED_SHOT', 'PENALTY', 'TAKEAWAY'])]\n",
    "\n",
    "# transform data type into a datetime.time object \n",
    "df['GameTime'] = df['GameTime'].apply(lambda x: datetime.strptime(x, '%M:%S').time())\n",
    "df.reset_index()"
   ]
  },
  {
   "cell_type": "code",
   "execution_count": null,
   "id": "115451fe",
   "metadata": {},
   "outputs": [],
   "source": [
    "# add distance and angle columns\n",
    "df = add_distance(df)\n",
    "df = add_angle(df)\n",
    "\n",
    "df"
   ]
  },
  {
   "cell_type": "markdown",
   "id": "656f004b",
   "metadata": {},
   "source": [
    "Now, to each shot, add information from the previous events. To each shot, we added the following information from the immediately preceding event as four new features:\n",
    "\n",
    "- Last event type\n",
    "- Coordinates of the last event (x, y, separate columns)\n",
    "- Time from the last event (seconds)\n",
    "- Distance from the last event\n"
   ]
  },
  {
   "cell_type": "code",
   "execution_count": null,
   "id": "58960d61",
   "metadata": {},
   "outputs": [],
   "source": [
    "df = add_previous_events(df)"
   ]
  },
  {
   "cell_type": "markdown",
   "id": "10692427",
   "metadata": {},
   "source": [
    "With this new information, we will try to quantify a few more interesting things about the state of the play with the following three features:\n",
    "\n",
    "- Rebound (bool): True if the last event was also a shot, otherwise False\n",
    "- Change in shot angle; only include if the shot is a rebound, otherwise 0.\n",
    "- “Speed”: defined as the distance from the previous event, divided by the time since the previous event. \n"
   ]
  },
  {
   "cell_type": "code",
   "execution_count": null,
   "id": "e29a9560",
   "metadata": {},
   "outputs": [],
   "source": [
    "df = add_rebound(df)\n",
    "df = angle_change(df)\n",
    "df = add_speed(df)"
   ]
  },
  {
   "cell_type": "code",
   "execution_count": null,
   "id": "1e47b356",
   "metadata": {},
   "outputs": [],
   "source": [
    "# keep only shots and goals\n",
    "df = df[df['Event'].isin(['SHOT', 'GOAL'])]\n",
    "\n",
    "# keep only the selected columns\n",
    "df = df[['ShotType', 'Period', 'GameTime', 'XCoord', 'YCoord', 'isEmptyNet', 'isGoal',\n",
    "         'DistanceToGoal', 'ShootingAngle', 'LastEvent', 'LastEvent_XCoord', 'LastEvent_YCoord', \n",
    "        'TimeLastEvent', 'DistanceLastEvent', 'Rebound', 'AngleChange', 'Speed']]\n",
    "df"
   ]
  },
  {
   "cell_type": "code",
   "execution_count": null,
   "id": "ec1729fb",
   "metadata": {},
   "outputs": [],
   "source": [
    "# save dataset for the advanced models\n",
    "df.reset_index()\n",
    "df.to_csv('advanced_models_data.csv')"
   ]
  },
  {
   "cell_type": "code",
   "execution_count": null,
   "id": "72999468",
   "metadata": {},
   "outputs": [],
   "source": [
    "# def add_powerplay_time(df):\n",
    "#     time_pp_started = np.zeros(df.shape[0])\n",
    "#     time = 0\n",
    "#     penalty_time = {'minor': 120, 'double': 240, 'major': 300}\n",
    "#     max_time = 0\n",
    "#     type_penalty = ''\n",
    "#     team_penalized = ''\n",
    "\n",
    "#     i = 0\n",
    "#     for j, row in df.iterrows():\n",
    "#         if time >= max_time:\n",
    "#             time_pp_started[i]\n",
    "        \n",
    "#         if row['Event'] == 'PENALTY':\n",
    "#             time = 0  # row['GameTime']\n",
    "#             max_time += penalty_time[type_penalty]\n",
    "            \n",
    "            \n",
    "    \n",
    "#     df['TimePPStarted'] = time_pp_started\n",
    "#     return df"
   ]
  }
 ],
 "metadata": {
  "kernelspec": {
   "display_name": "ift6758-conda-env",
   "language": "python",
   "name": "ift6758-conda-env"
  },
  "language_info": {
   "codemirror_mode": {
    "name": "ipython",
    "version": 3
   },
   "file_extension": ".py",
   "mimetype": "text/x-python",
   "name": "python",
   "nbconvert_exporter": "python",
   "pygments_lexer": "ipython3",
   "version": "3.11.5"
  }
 },
 "nbformat": 4,
 "nbformat_minor": 5
}
